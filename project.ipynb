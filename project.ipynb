{
  "nbformat": 4,
  "nbformat_minor": 0,
  "metadata": {
    "colab": {
      "provenance": []
    },
    "kernelspec": {
      "name": "python3",
      "display_name": "Python 3"
    },
    "language_info": {
      "name": "python"
    }
  },
  "cells": [
    {
      "cell_type": "code",
      "execution_count": 13,
      "metadata": {
        "colab": {
          "base_uri": "https://localhost:8080/"
        },
        "id": "mxfnk2QvR80Z",
        "outputId": "ce2ea42e-0850-4507-cbac-8981f3d9499a"
      },
      "outputs": [
        {
          "output_type": "stream",
          "name": "stdout",
          "text": [
            "Mounted at /content/drive\n"
          ]
        }
      ],
      "source": [
        "#imports\n",
        "from google.colab import drive\n",
        "drive.mount('/content/drive',force_remount=True)\n",
        "import numpy as np\n",
        "from sklearn.model_selection import train_test_split\n",
        "from sklearn.linear_model import LinearRegression\n",
        "import matplotlib.pyplot as plt\n",
        "with open('/content/drive/My Drive/Colab Notebooks/diabetes.csv', 'r') as f:\n",
        "  data = np.genfromtxt(f,delimiter=',')"
      ]
    },
    {
      "cell_type": "code",
      "source": [
        "#linear regression\n",
        "print(\"data_shape :\",data.shape)\n",
        "X = data[:,0:8]\n",
        "y = data[:,-1]#outcome\n",
        "print(\"X_shape and y_shape :\", X.shape,y.shape)\n",
        "X_train, X_test, y_train, y_test = train_test_split(X, y, train_size=0.7)\n",
        "print(\"X_train :\", X_train.shape)\n",
        "\n",
        "reg = LinearRegression().fit(X_train,y_train)\n",
        "print('intercept= ', reg.intercept_)\n",
        "print('Slope (coefficients)=', reg.coef_)\n"
      ],
      "metadata": {
        "colab": {
          "base_uri": "https://localhost:8080/"
        },
        "id": "FcMIjY3ES4PG",
        "outputId": "70213cc5-0e7a-48ce-a12f-f6d415f4c8a6"
      },
      "execution_count": 22,
      "outputs": [
        {
          "output_type": "stream",
          "name": "stdout",
          "text": [
            "data_shape : (769, 9)\n",
            "X_shape and y_shape : (769, 8) (769,)\n",
            "X_train : (538, 8)\n"
          ]
        }
      ]
    }
  ]
}